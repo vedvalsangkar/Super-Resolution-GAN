{
  "nbformat": 4,
  "nbformat_minor": 0,
  "metadata": {
    "colab": {
      "name": "datasets",
      "version": "0.3.2",
      "provenance": [],
      "collapsed_sections": []
    },
    "kernelspec": {
      "name": "python3",
      "display_name": "Python 3"
    }
  },
  "cells": [
    {
      "cell_type": "code",
      "metadata": {
        "id": "JK1ftAbHpxuk",
        "colab_type": "code",
        "colab": {}
      },
      "source": [
        "import torch\n",
        "from torch.utils.data.dataset import Dataset\n",
        "from torchvision import transforms\n",
        "from PIL import Image\n",
        "import pandas as pd\n",
        "\n",
        "import os"
      ],
      "execution_count": 0,
      "outputs": []
    },
    {
      "cell_type": "markdown",
      "metadata": {
        "id": "QG-CK35IIeIW",
        "colab_type": "text"
      },
      "source": [
        "## Below template is used in PyTorch for creating a custom dataset class which can be fed to a Dataloader to pass data to the training code in GPU at runtime without bottlenecking CPU."
      ]
    },
    {
      "cell_type": "code",
      "metadata": {
        "id": "t7j_tfPOp6J6",
        "colab_type": "code",
        "colab": {}
      },
      "source": [
        "class TemplateDataSet(Dataset):\n",
        "\n",
        "    def __init__(self):\n",
        "    def __getitem__(self, item):\n",
        "        pass\n",
        "\n",
        "    def __len__(self):\n",
        "        pass\n",
        "\n"
      ],
      "execution_count": 0,
      "outputs": []
    },
    {
      "cell_type": "markdown",
      "metadata": {
        "id": "yyYb6EV6JB58",
        "colab_type": "text"
      },
      "source": [
        "# This is the Dataset class which provides data to the model."
      ]
    },
    {
      "cell_type": "code",
      "metadata": {
        "id": "YOiWg7Ugp8Ri",
        "colab_type": "code",
        "colab": {}
      },
      "source": [
        "# ------------------------------------------- dataloader ----------------------------------------\n",
        "\n",
        "class DIVFlickrDataSet(Dataset):\n",
        "\n",
        "    def __init__(self, root_folder, lr_transform=transforms.ToTensor(), hr_transform=transforms.ToTensor(), test_mode=False):\n",
        "        self.root_image_folder = root_folder   # Data/DIV_Flickr/train/\n",
        "        self.DIV_HR_folder = root_folder + \"DIV_HR/\"\n",
        "        self.DIV_LR_folder = root_folder + \"DIV_LR/\"\n",
        "        self.Flickr_HR_folder = root_folder + \"Flickr_HR/\"\n",
        "        self.Flickr_LR_folder = root_folder + \"Flickr_LR/\"\n",
        "\n",
        "        self.test_mode = test_mode\n",
        "\n",
        "        self.lr_transform = lr_transform\n",
        "        self.hr_transform = hr_transform\n",
        "\n",
        "        self.DIV_df = pd.DataFrame(data={\"HD\": sorted(os.listdir(self.DIV_HR_folder)),\n",
        "                                         \"LD\": sorted(os.listdir(self.DIV_LR_folder))}\n",
        "                                   )\n",
        "        self.DIV_df[\"HD\"] = self.DIV_HR_folder + self.DIV_df[\"HD\"]\n",
        "        self.DIV_df[\"LD\"] = self.DIV_LR_folder + self.DIV_df[\"LD\"]\n",
        "\n",
        "        self.Flickr_df = pd.DataFrame(data={\"HD\": sorted(os.listdir(self.Flickr_HR_folder)),\n",
        "                                            \"LD\": sorted(os.listdir(self.Flickr_LR_folder))}\n",
        "                                      )\n",
        "\n",
        "        self.Flickr_df[\"HD\"] = self.Flickr_HR_folder + self.Flickr_df[\"HD\"]\n",
        "        self.Flickr_df[\"LD\"] = self.Flickr_LR_folder + self.Flickr_df[\"LD\"]\n",
        "\n",
        "        self.main_df = pd.concat([self.DIV_df, self.Flickr_df], axis=0)\n",
        "\n",
        "        self.length = self.main_df.shape[0]\n",
        "\n",
        "    def __getitem__(self, item):\n",
        "\n",
        "        row = self.main_df.iloc[item, :]\n",
        "\n",
        "        try:\n",
        "            low_res = Image.open(row[\"LD\"])\n",
        "            high_res = Image.open(row[\"HD\"])\n",
        "        except FileNotFoundError:\n",
        "            print(\"File not found:\", row)\n",
        "\n",
        "        if self.test_mode:\n",
        "            filename = os.path.splitext(os.path.basename(row[\"LD\"]))[0]\n",
        "            return self.lr_transform(low_res), self.hr_transform(high_res), filename\n",
        "        else:\n",
        "            return self.lr_transform(low_res), self.hr_transform(high_res), torch.tensor(0.0), torch.tensor(1.0)\n",
        "\n",
        "    def __len__(self):\n",
        "        return self.length\n",
        "\n"
      ],
      "execution_count": 0,
      "outputs": []
    }
  ]
}