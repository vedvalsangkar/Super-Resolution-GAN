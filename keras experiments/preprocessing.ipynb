{
  "nbformat": 4,
  "nbformat_minor": 0,
  "metadata": {
    "colab": {
      "name": "preprocessing",
      "version": "0.3.2",
      "provenance": [],
      "collapsed_sections": []
    },
    "kernelspec": {
      "name": "python3",
      "display_name": "Python 3"
    }
  },
  "cells": [
    {
      "cell_type": "code",
      "metadata": {
        "id": "7ADg9D30rJqQ",
        "colab_type": "code",
        "colab": {}
      },
      "source": [
        "import cv2 as cv\n",
        "import os\n",
        "import math\t"
      ],
      "execution_count": 0,
      "outputs": []
    },
    {
      "cell_type": "code",
      "metadata": {
        "id": "6jlPBheFr6PZ",
        "colab_type": "code",
        "colab": {}
      },
      "source": [
        "# ------------------------- basic directory structure ------------------\n",
        "\n",
        "div_train_path = \"DIV2K_train_HR/DIV2K_train_HR/\"\n",
        "div_val_path = \"DIV2K_valid_HR/DIV2K_valid_HR/\"\n",
        "flic_train_path = \" Flickr2K/Flickr2K/Flickr2K_HR\""
      ],
      "execution_count": 0,
      "outputs": []
    },
    {
      "cell_type": "code",
      "metadata": {
        "id": "EzjVZDW9rce6",
        "colab_type": "code",
        "colab": {}
      },
      "source": [
        "# ------------------------ crop images from center ---------------------\n",
        "\n",
        "def crop_image(path):\n",
        "\tcount = 0\n",
        "\tim_to_crop_list = os.listdir(path)\n",
        "\tfor i in im_to_crop_list:\n",
        "\t\timg= cv.imread((path+i)).astype(float)/255.0\n",
        "\t\th,w,c = img.shape\n",
        "\t\tch = math.ceil(h/2)\n",
        "\t\tcw = math.ceil(w/2)\n",
        "\t\ta = min(h,w)\n",
        "\t\tif a==h:\n",
        "\t\t\tcrop_img = img[0:a,int((cw-a/2)/2):int(a+(cw-a/2)/2)]\n",
        "\t\telse:\n",
        "\t\t\tcrop_img = img[int((ch-a/2)/2):int(a+(ch-a/2)/2),0:a]\n",
        "\t\t\n",
        "\t\tcv.imwrite(path,\"/cropped/\"+str(i),crop_img*255.0)\n",
        "\t\tcount +=1\n",
        "\t\tprint(\"crop \", count)\n",
        "\tprint(\"read\", path)\n",
        "\n",
        "crop_image(div_train_path)\n",
        "crop_image(div_val_path)\n",
        "crop_image(flic_train_path)\n",
        "\n"
      ],
      "execution_count": 0,
      "outputs": []
    },
    {
      "cell_type": "code",
      "metadata": {
        "id": "3NTICUE_tsfM",
        "colab_type": "code",
        "colab": {}
      },
      "source": [
        "Div_train_path = \"DIV2K_train_HR/DIV2K_train_HR/cropped/\"\n",
        "Div_val_path = \"DIV2K_valid_HR/DIV2K_valid_HR/cropped/\"\n",
        "flic_train_path = \"Flickr2K/Flickr2K/Flickr2K_HR/cropped\"\n"
      ],
      "execution_count": 0,
      "outputs": []
    },
    {
      "cell_type": "code",
      "metadata": {
        "id": "cD0jHoPfrimx",
        "colab_type": "code",
        "colab": {}
      },
      "source": [
        "\n",
        "# ------------------- resize the already square to 224 x 224 -------------------\n",
        "\n",
        "def resize_224(path):\n",
        "\t\n",
        "\tim_train_list = os.listdir(path)\n",
        "\t# im_div_list = os.listdir(pu_train_path)\n",
        "\tcount = 0\n",
        "\tfor i in im_train_list:\n",
        "\t\tcv.imwrite(path,\"/224/\"+i,(cv.resize(((cv.imread((pu_train_path+\"/\"+i))).astype(float)/255.0),(224,224))*255.0))\n",
        "\t\tcount +=1\n",
        "\t\tprint(path, count)\n",
        "print(\"read 224\")\n",
        "\n",
        "resize_224(Div_train_path)\n",
        "resize_224(Div_val_path)\n",
        "resize_224(flic_train_path)"
      ],
      "execution_count": 0,
      "outputs": []
    },
    {
      "cell_type": "code",
      "metadata": {
        "id": "9aaYM7pCro9Z",
        "colab_type": "code",
        "colab": {}
      },
      "source": [
        "Div_train_path = \"DIV2K_train_HR/DIV2K_train_HR/cropped/244\"\n",
        "Div_val_path = \"DIV2K_valid_HR/DIV2K_valid_HR/cropped/244\"\n",
        "flic_train_path = \"Flickr2K/Flickr2K/Flickr2K_HR/cropped/244\""
      ],
      "execution_count": 0,
      "outputs": []
    },
    {
      "cell_type": "code",
      "metadata": {
        "id": "61N3mIZGrvJ6",
        "colab_type": "code",
        "colab": {}
      },
      "source": [
        "\n",
        "# ------------------------------ bicubic implementation --------------------------------------\n",
        "\n",
        "def make_lr(path):\n",
        "\tcount = 0\n",
        "  pathh = os.listdir(path)\n",
        "\tfor i in pathh:\n",
        "\t\timg= cv.imread((path+i)).astype(float)/255.0\n",
        "\t\tcv.imwrite(path+str(i),cv.resize(img,None,fx=0.25, fy=0.25, interpolation = cv.INTER_CUBIC)*255.0)\n",
        "\t\tcount +=1\n",
        "\t\tprint(path,count)\n",
        "\tprint(\"read\")\n",
        "\t\n",
        "\n",
        "make_lr(Div_train_path)\n",
        "make_lr(Div_val_path)\n",
        "make_lr(flic_train_path)"
      ],
      "execution_count": 0,
      "outputs": []
    }
  ]
}